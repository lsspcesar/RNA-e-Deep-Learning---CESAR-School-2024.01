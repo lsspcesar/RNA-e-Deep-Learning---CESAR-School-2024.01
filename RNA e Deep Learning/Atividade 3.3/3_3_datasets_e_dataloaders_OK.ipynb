{
  "nbformat": 4,
  "nbformat_minor": 0,
  "metadata": {
    "colab": {
      "provenance": []
    },
    "kernelspec": {
      "display_name": "Python 3",
      "language": "python",
      "name": "python3"
    }
  },
  "cells": [
    {
      "metadata": {
        "id": "HPLrnyCPXtIn"
      },
      "cell_type": "markdown",
      "source": [
        "# Datasets e DataLoaders no Pytorch"
      ]
    },
    {
      "metadata": {
        "id": "XMVwhFH_XtIo"
      },
      "cell_type": "markdown",
      "source": [
        "Demonstração do funcionamento dos Datasets e Dataloaders no Pytorch"
      ]
    },
    {
      "metadata": {
        "id": "Vc1EG1fXXtIp"
      },
      "cell_type": "markdown",
      "source": [
        "### Objetivo"
      ]
    },
    {
      "metadata": {
        "id": "GCqkJ_uKXtIq"
      },
      "cell_type": "markdown",
      "source": [
        "O objetivo deste notebook é demonstrar as três formas de carregar e usar dados no PyTorch:\n",
        "\n",
        "* torch.utils.data.TensorDataset\n",
        "* torch.utils.data.Dataset\n",
        "* torch.utils.data.DataLoader\n",
        "\n",
        "Neste notebook usaremos o dataset de Flores Íris, já visto anteriormente"
      ]
    },
    {
      "metadata": {
        "ExecuteTime": {
          "end_time": "2017-10-08T11:34:30.937052Z",
          "start_time": "2017-10-08T11:34:30.479875Z"
        },
        "id": "RSlNmg6_XtIr"
      },
      "cell_type": "code",
      "source": [
        "import numpy as np\n",
        "import torch\n",
        "from torch.utils.data import TensorDataset\n",
        "\n",
        "from torchvision import transforms\n",
        "\n",
        "from sklearn.datasets import load_iris"
      ],
      "execution_count": null,
      "outputs": []
    },
    {
      "metadata": {
        "id": "2fDd3Pn_XtIu"
      },
      "cell_type": "markdown",
      "source": [
        "# Datasets"
      ]
    },
    {
      "metadata": {
        "id": "Padn_LO3XtIv"
      },
      "cell_type": "markdown",
      "source": [
        "No Pytorch, datasets são objetos utilizados para armazenar, indexar, transformar e retornar elementos de um conjunto de dados.\n",
        "\n",
        "Existem duas formas de se criar um dataset em PyTorch:\n",
        "\n",
        "* Transformar os dados de entrada em tensores torch e criar o dataset com torch.utils.data.TensorDataset¶\n",
        "* Criar uma classe filha de torch.utils.data.Dataset"
      ]
    },
    {
      "metadata": {
        "id": "lG6MADq8XtIv"
      },
      "cell_type": "markdown",
      "source": [
        "## Criando um Dataset com `torch.utils.data.TensorDataset`"
      ]
    },
    {
      "metadata": {
        "id": "wEud3qr9XtIw"
      },
      "cell_type": "markdown",
      "source": [
        "Se os dados e as classes forem disponibilizados em arrays do numpy ou tensores do próprio PyTorch é possível criar um dataset utilizando [torch.utils.data.TensorDataset](http://pytorch.org/docs/master/data.html#torch.utils.data.TensorDataset):"
      ]
    },
    {
      "metadata": {
        "ExecuteTime": {
          "end_time": "2017-10-08T11:34:30.937052Z",
          "start_time": "2017-10-08T11:34:30.479875Z"
        },
        "id": "K9H8Rd2BXtIw"
      },
      "cell_type": "markdown",
      "source": [
        "### Dados anotados: x_data (comprimento das sépalas) e target (comprimento das pétalas)  "
      ]
    },
    {
      "metadata": {
        "ExecuteTime": {
          "end_time": "2017-10-08T11:34:30.937052Z",
          "start_time": "2017-10-08T11:34:30.479875Z"
        },
        "id": "aQoZ1kFvXtIx",
        "colab": {
          "base_uri": "https://localhost:8080/"
        },
        "outputId": "2892cc5a-e6f3-4bc7-dbaa-dd66ef14f51e"
      },
      "cell_type": "code",
      "source": [
        "iris = load_iris()\n",
        "data = iris.data[iris.target==1,::2]  # comprimento das sépalas e pétalas, indices 0 e 2\n",
        "\n",
        "x_data = data[:,0:1]\n",
        "target = data[:,1:2]\n",
        "\n",
        "print('dimensões de x_data:', x_data.shape)\n",
        "print('dimensões de target:', target.shape)"
      ],
      "execution_count": null,
      "outputs": [
        {
          "output_type": "stream",
          "name": "stdout",
          "text": [
            "dimensões de x_data: (50, 1)\n",
            "dimensões de target: (50, 1)\n"
          ]
        }
      ]
    },
    {
      "metadata": {
        "ExecuteTime": {
          "end_time": "2017-10-08T11:34:30.944416Z",
          "start_time": "2017-10-08T11:34:30.938947Z"
        },
        "collapsed": true,
        "id": "rKT_mN4JXtI2"
      },
      "cell_type": "markdown",
      "source": [
        "### Passo 1: transformar o array numpy em tensores torch"
      ]
    },
    {
      "metadata": {
        "ExecuteTime": {
          "end_time": "2017-10-08T11:34:30.944416Z",
          "start_time": "2017-10-08T11:34:30.938947Z"
        },
        "id": "jkYfJyn9XtI3"
      },
      "cell_type": "code",
      "source": [
        "x_data = torch.FloatTensor(x_data)\n",
        "target = torch.FloatTensor(target)"
      ],
      "execution_count": null,
      "outputs": []
    },
    {
      "metadata": {
        "ExecuteTime": {
          "end_time": "2017-10-08T11:34:30.944416Z",
          "start_time": "2017-10-08T11:34:30.938947Z"
        },
        "collapsed": true,
        "id": "LntBWpdFXtI4"
      },
      "cell_type": "markdown",
      "source": [
        "### Passo 2: usar `TensorDataset` para criar o dataset com os tensores"
      ]
    },
    {
      "metadata": {
        "ExecuteTime": {
          "end_time": "2017-10-08T11:34:30.944416Z",
          "start_time": "2017-10-08T11:34:30.938947Z"
        },
        "id": "VySgPyZ5XtI5",
        "colab": {
          "base_uri": "https://localhost:8080/"
        },
        "outputId": "b3a9f5c1-5969-4e72-8ef0-1a422b85d829"
      },
      "cell_type": "code",
      "source": [
        "dataset = TensorDataset(x_data, target)\n",
        "len(dataset)"
      ],
      "execution_count": null,
      "outputs": [
        {
          "output_type": "execute_result",
          "data": {
            "text/plain": [
              "50"
            ]
          },
          "metadata": {},
          "execution_count": 4
        }
      ]
    },
    {
      "metadata": {
        "id": "bCsJR3I5XtI9"
      },
      "cell_type": "markdown",
      "source": [
        "O dataset pode ser indexado como uma lista e cada elemento retorna uma tupla:\n",
        "- dado de entrada e\n",
        "- dado de saída."
      ]
    },
    {
      "metadata": {
        "ExecuteTime": {
          "end_time": "2017-10-08T11:34:30.953173Z",
          "start_time": "2017-10-08T11:34:30.947028Z"
        },
        "id": "KgjhWW2mXtI-",
        "colab": {
          "base_uri": "https://localhost:8080/"
        },
        "outputId": "af291572-b4a9-40ca-9312-d8e9e8a4bf15"
      },
      "cell_type": "code",
      "source": [
        "i = 10\n",
        "(x, y) = dataset[i]\n",
        "\n",
        "print('sépala:', x)\n",
        "print('pétala:', y)"
      ],
      "execution_count": null,
      "outputs": [
        {
          "output_type": "stream",
          "name": "stdout",
          "text": [
            "sépala: tensor([5.])\n",
            "pétala: tensor([3.5000])\n"
          ]
        }
      ]
    },
    {
      "metadata": {
        "id": "sSxu2nTVXtJB"
      },
      "cell_type": "markdown",
      "source": [
        "## Criando um Dataset com `torch.utils.data.Dataset`"
      ]
    },
    {
      "metadata": {
        "id": "2aXx_aeIXtJC"
      },
      "cell_type": "markdown",
      "source": [
        "É possível criar uma nova classe personalizada representando um dataset. Esta classe deve herdar de [torch.utils.data.Dataset](http://pytorch.org/docs/master/data.html#torch.utils.data.Dataset) para tratar casos mais complexos e especiais."
      ]
    },
    {
      "metadata": {
        "id": "Sx8Q-pnYXtJD"
      },
      "cell_type": "markdown",
      "source": [
        "### Estrutura do Dataset"
      ]
    },
    {
      "metadata": {
        "id": "MPn4YrH2XtJD"
      },
      "cell_type": "markdown",
      "source": [
        "Sempre que se herda de `Dataset` é preciso implementar os métodos:\n",
        "- `__len__`: para retornar o tamanho do dataset, e\n",
        "- `__getitem__`: para retornar um elemento de um índice dado.\n",
        "\n",
        "O método `__len__` é chamado quando usamos a chamada `len(dataset)` do Python e `__getitem__` é chamado quando fazemos a indexação `dataset[i]`.\n",
        "\n",
        "É possível inicializar variáveis da classe no construtor (`__init__`) do dataset."
      ]
    },
    {
      "metadata": {
        "ExecuteTime": {
          "end_time": "2017-10-08T11:34:30.961940Z",
          "start_time": "2017-10-08T11:34:30.955215Z"
        },
        "id": "1p3sC5eMXtJE"
      },
      "cell_type": "code",
      "source": [
        "from torch.utils.data import Dataset\n",
        "\n",
        "class IrisDataset(Dataset):\n",
        "    def __init__(self, x_data, target):\n",
        "        super(IrisDataset, self).__init__()\n",
        "\n",
        "        self.data = x_data\n",
        "        self.target = target\n",
        "\n",
        "    def __len__(self):\n",
        "        return self.data.shape[0]\n",
        "\n",
        "    def __getitem__(self, index):\n",
        "\n",
        "        sepala = self.data[index]\n",
        "        petala = self.target[index]\n",
        "\n",
        "        return (sepala, petala)"
      ],
      "execution_count": null,
      "outputs": []
    },
    {
      "metadata": {
        "id": "xsEvgmWIXtJG"
      },
      "cell_type": "markdown",
      "source": [
        "Nossa classe está pronta, podemos criar um objeto dela."
      ]
    },
    {
      "metadata": {
        "ExecuteTime": {
          "end_time": "2017-10-08T11:34:30.998713Z",
          "start_time": "2017-10-08T11:34:30.994307Z"
        },
        "collapsed": true,
        "id": "5uovh-cbXtJH"
      },
      "cell_type": "markdown",
      "source": [
        "### Criando e testando um objeto da nossa classe"
      ]
    },
    {
      "metadata": {
        "id": "PdN1HFfwXtJI"
      },
      "cell_type": "markdown",
      "source": [
        "Para exemplificar o uso de classes de transformação os dados foram novamente gerados como array numpy."
      ]
    },
    {
      "metadata": {
        "ExecuteTime": {
          "end_time": "2017-10-08T11:34:30.998713Z",
          "start_time": "2017-10-08T11:34:30.994307Z"
        },
        "id": "PyCtArb2XtJJ"
      },
      "cell_type": "code",
      "source": [
        "x = data[:,0:1]\n",
        "y = data[:,1:2]\n",
        "\n",
        "dataset = IrisDataset(x, y)"
      ],
      "execution_count": null,
      "outputs": []
    },
    {
      "metadata": {
        "id": "GxfSIFiuXtJN"
      },
      "cell_type": "markdown",
      "source": [
        "Nosso método `__len__` deve retornar o tamanho da primeira dimensão dos dados.\n",
        "\n",
        "Podemos verificar se o método está correto chamando o `len()` do Python:"
      ]
    },
    {
      "metadata": {
        "ExecuteTime": {
          "end_time": "2017-10-08T11:34:31.007017Z",
          "start_time": "2017-10-08T11:34:31.001464Z"
        },
        "scrolled": true,
        "id": "94n8oH_hXtJO",
        "colab": {
          "base_uri": "https://localhost:8080/"
        },
        "outputId": "4521c8ea-d475-43f4-f23d-403b5716a76d"
      },
      "cell_type": "code",
      "source": [
        "print(len(dataset))"
      ],
      "execution_count": null,
      "outputs": [
        {
          "output_type": "stream",
          "name": "stdout",
          "text": [
            "50\n"
          ]
        }
      ]
    },
    {
      "metadata": {
        "id": "dGWPm9GcXtJS"
      },
      "cell_type": "markdown",
      "source": [
        "Nosso método `__getitem__()` deve retornar uma tupla na i-ésima posição no dataset, no nosso caso `data[i]` e `target[i]`:"
      ]
    },
    {
      "metadata": {
        "ExecuteTime": {
          "end_time": "2017-10-08T11:34:31.017354Z",
          "start_time": "2017-10-08T11:34:31.009628Z"
        },
        "scrolled": true,
        "id": "c0Fqqol-XtJT",
        "colab": {
          "base_uri": "https://localhost:8080/"
        },
        "outputId": "bf4aa4d8-833d-4ccb-c235-bf6209e7656b"
      },
      "cell_type": "code",
      "source": [
        "i = 1\n",
        "print(dataset[i])"
      ],
      "execution_count": null,
      "outputs": [
        {
          "output_type": "stream",
          "name": "stdout",
          "text": [
            "(array([6.4]), array([4.5]))\n"
          ]
        }
      ]
    },
    {
      "metadata": {
        "ExecuteTime": {
          "end_time": "2017-10-08T11:34:31.043575Z",
          "start_time": "2017-10-08T11:34:31.035989Z"
        },
        "id": "Sglim3OmXtJW",
        "colab": {
          "base_uri": "https://localhost:8080/"
        },
        "outputId": "79f3de8a-25f9-44c2-f3b5-68cea86ec3ac"
      },
      "cell_type": "code",
      "source": [
        "data, target = dataset[30]\n",
        "\n",
        "print('sépala:', data)\n",
        "print('pétala:', target)"
      ],
      "execution_count": null,
      "outputs": [
        {
          "output_type": "stream",
          "name": "stdout",
          "text": [
            "sépala: [5.5]\n",
            "pétala: [3.8]\n"
          ]
        }
      ]
    },
    {
      "metadata": {
        "id": "R8QOkAGcXtJc"
      },
      "cell_type": "markdown",
      "source": [
        "### Conclusão"
      ]
    },
    {
      "metadata": {
        "id": "rJkF73ObXtJe"
      },
      "cell_type": "markdown",
      "source": [
        "O caso apresentado neste tópico é muito simples, apresentando os conceitos básicos da estrutura que o Pytorch utiliza para representar datasets. A classe torch.utils.data.Dataset é usada para casos complexos em que é preciso, por exemplo, carregar o dataset de arquivos e quando o gerenciamento dos dados não é tão trivial ou quando queremos aplicar uma transformação ao dado."
      ]
    },
    {
      "metadata": {
        "id": "rcFO6yCTXtJe"
      },
      "cell_type": "markdown",
      "source": [
        "# DataLoaders"
      ]
    },
    {
      "metadata": {
        "id": "CGAZRZ_RXtJf"
      },
      "cell_type": "markdown",
      "source": [
        "Um DataLoader ([torch.utils.data.DataLoader](http://pytorch.org/docs/master/data.html#torch.utils.data.DataLoader)) combina um Dataset e um Sampler (divide os dados em batches).\n",
        "\n",
        "O DataLoader permite que os dados possam ser processados na forma de \"mini-batches\". A cada nova chamada do objeto criado com o DataLoader, um novo conjunto de dados é retornado. O DataLoader é a ferramenta do PyTorch para implementar o treinamento do gradiente descendente por \"mini-batches\". O treinamento por mini-batches possui duas grandes vantagens:\n",
        "- Implementa o gradiente descendente estocástico via mini-batch, que acelera o treinamento;\n",
        "- Permite que os dados do mini-batch a serem otimizados caibam na memória (normalmente da GPU).\n"
      ]
    },
    {
      "metadata": {
        "id": "IvfURxInXtJg"
      },
      "cell_type": "markdown",
      "source": [
        "## Criando um DataLoader"
      ]
    },
    {
      "metadata": {
        "id": "7GwoOHcYXtJg"
      },
      "cell_type": "markdown",
      "source": [
        "Vamos utilizar o dataset já criado anteriormente para ser a fonte de dados do nosso DataLoader."
      ]
    },
    {
      "metadata": {
        "ExecuteTime": {
          "end_time": "2017-10-08T11:34:31.066111Z",
          "start_time": "2017-10-08T11:34:31.057572Z"
        },
        "id": "lGMBy8jJXtJi",
        "colab": {
          "base_uri": "https://localhost:8080/"
        },
        "outputId": "f47a268c-0659-439c-fda6-0d9fa91028cc"
      },
      "cell_type": "code",
      "source": [
        "print('tamanho do dataset: ', len(dataset))\n",
        "print('amostra 12:', dataset[12])"
      ],
      "execution_count": null,
      "outputs": [
        {
          "output_type": "stream",
          "name": "stdout",
          "text": [
            "tamanho do dataset:  50\n",
            "amostra 12: (array([6.]), array([4.]))\n"
          ]
        }
      ]
    },
    {
      "metadata": {
        "id": "OfFyPxd7XtJj"
      },
      "cell_type": "markdown",
      "source": [
        "Agora podemos criar o DataLoader com o dataset"
      ]
    },
    {
      "metadata": {
        "ExecuteTime": {
          "end_time": "2017-10-08T11:34:31.074580Z",
          "start_time": "2017-10-08T11:34:31.068844Z"
        },
        "id": "O75HXOhUXtJl"
      },
      "cell_type": "code",
      "source": [
        "from torch.utils.data import DataLoader\n",
        "\n",
        "data_loader = DataLoader(dataset,\n",
        "                         batch_size=10, # tamanho do mini-batch de dados\n",
        "                         shuffle=False) # se for True, embaralha os dados no inicio de cada iteração"
      ],
      "execution_count": null,
      "outputs": []
    },
    {
      "metadata": {
        "id": "wQNpxQHHXtJo"
      },
      "cell_type": "markdown",
      "source": [
        "## Iterando sobre o DataLoader"
      ]
    },
    {
      "metadata": {
        "id": "J7m5faP8XtJo"
      },
      "cell_type": "markdown",
      "source": [
        "Podemos iterar sobre o DataLoader utilizando um `for`"
      ]
    },
    {
      "metadata": {
        "ExecuteTime": {
          "end_time": "2017-10-08T11:34:31.130351Z",
          "start_time": "2017-10-08T11:34:31.076932Z"
        },
        "id": "52_ND2zOXtJp",
        "colab": {
          "base_uri": "https://localhost:8080/"
        },
        "outputId": "2f326398-a033-476b-cdbe-416e874f61e8"
      },
      "cell_type": "code",
      "source": [
        "batch_n = 0\n",
        "n_samples = 0\n",
        "for data in data_loader:\n",
        "    print('batch ', batch_n)\n",
        "    batch_n += 1\n",
        "    n_samples += len(data[0])\n",
        "\n",
        "print('tamanho do DataLoader', len(data_loader))\n",
        "print('tamanho do dataset', n_samples)"
      ],
      "execution_count": null,
      "outputs": [
        {
          "output_type": "stream",
          "name": "stdout",
          "text": [
            "batch  0\n",
            "batch  1\n",
            "batch  2\n",
            "batch  3\n",
            "batch  4\n",
            "tamanho do DataLoader 5\n",
            "tamanho do dataset 50\n"
          ]
        }
      ]
    },
    {
      "metadata": {
        "id": "RLx-IiHLXtJt"
      },
      "cell_type": "markdown",
      "source": [
        "O tamanho do DataLoader é 5, pois temos batches de tamanho 10 dados no dataloader.\n",
        "\n",
        "Agora podemos utilizar os dados do DataLoader:"
      ]
    },
    {
      "metadata": {
        "ExecuteTime": {
          "end_time": "2017-10-08T11:34:31.170947Z",
          "start_time": "2017-10-08T11:34:31.134178Z"
        },
        "id": "V46WUIFyXtJu",
        "colab": {
          "base_uri": "https://localhost:8080/"
        },
        "outputId": "e1e7423f-34a6-4ad4-c96c-82df991432c1"
      },
      "cell_type": "code",
      "source": [
        "batch_n = 0\n",
        "\n",
        "for data in data_loader:\n",
        "    # separa a tupla em petalas e sépalas\n",
        "    data_batch, targets_batch = data\n",
        "\n",
        "    print('dimensão do batch de sépalas {}:   {}'.format(batch_n, data_batch.size()))\n",
        "    print('dimensão do batch de pétalas {}: {}\\n'.format(batch_n, targets_batch.size()))\n",
        "    batch_n += 1\n"
      ],
      "execution_count": null,
      "outputs": [
        {
          "output_type": "stream",
          "name": "stdout",
          "text": [
            "dimensão do batch de sépalas 0:   torch.Size([10, 1])\n",
            "dimensão do batch de pétalas 0: torch.Size([10, 1])\n",
            "\n",
            "dimensão do batch de sépalas 1:   torch.Size([10, 1])\n",
            "dimensão do batch de pétalas 1: torch.Size([10, 1])\n",
            "\n",
            "dimensão do batch de sépalas 2:   torch.Size([10, 1])\n",
            "dimensão do batch de pétalas 2: torch.Size([10, 1])\n",
            "\n",
            "dimensão do batch de sépalas 3:   torch.Size([10, 1])\n",
            "dimensão do batch de pétalas 3: torch.Size([10, 1])\n",
            "\n",
            "dimensão do batch de sépalas 4:   torch.Size([10, 1])\n",
            "dimensão do batch de pétalas 4: torch.Size([10, 1])\n",
            "\n"
          ]
        }
      ]
    },
    {
      "metadata": {
        "id": "eRpUfq1BXtJy"
      },
      "cell_type": "markdown",
      "source": [
        "É possível ver que os batches tem mesmo 10 dados (5 matrizes 10x1 para as sépalas e 5 matrizes 10x1 para as pétalas)"
      ]
    },
    {
      "metadata": {
        "id": "9oZkgCTtXtJz"
      },
      "cell_type": "markdown",
      "source": [
        "No exemplo abaixo é possível ver que, com shuffle igual o False, os dados de cada mini-batch são sempre os mesmos. Cada cor contém os dados de um mini-batch:"
      ]
    },
    {
      "metadata": {
        "id": "AWh6f-CzXtJz"
      },
      "cell_type": "code",
      "source": [
        "%matplotlib inline\n",
        "import matplotlib.pyplot as plt"
      ],
      "execution_count": null,
      "outputs": []
    },
    {
      "metadata": {
        "id": "A0jgIiY4XtJ2"
      },
      "cell_type": "code",
      "source": [
        "data_loader = DataLoader(dataset,\n",
        "                         batch_size=10, # tamanho do mini-batch de dados\n",
        "                         shuffle=False) # se for True, embaralha os dados no inicio de cada iteração"
      ],
      "execution_count": null,
      "outputs": []
    },
    {
      "metadata": {
        "scrolled": true,
        "id": "zK81UeTfXtJ5",
        "colab": {
          "base_uri": "https://localhost:8080/",
          "height": 483
        },
        "outputId": "e220fd97-aab7-4ff3-ac80-79cc5de14d51"
      },
      "cell_type": "code",
      "source": [
        "color = [\"b\",\"g\",\"r\",\"c\",\"m\"]\n",
        "mark = ['+', '.', '^', 'o', 'x']\n",
        "fig = plt.figure(figsize=(16,5))\n",
        "ax1 = fig.add_subplot(1,2,1)\n",
        "ax1.set_xlabel('Comprimento sepalas')\n",
        "ax1.set_ylabel('Comprimento petalas')\n",
        "ax1.set_title('Primeira iteração')\n",
        "\n",
        "for i,data in enumerate(data_loader):\n",
        "    # separa a tupla em petalas e sépalas\n",
        "    data_batch, targets_batch = data\n",
        "\n",
        "    ax1.scatter(data_batch, targets_batch, c=color[i], marker=mark[i])\n",
        "\n",
        "ax2 = fig.add_subplot(1,2,2)\n",
        "ax2.set_xlabel('Comprimento normalizado sepalas')\n",
        "ax2.set_ylabel('Comprimento normalizado petalas')\n",
        "ax2.set_title('Segunda iteração')\n",
        "\n",
        "for i,data in enumerate(data_loader):\n",
        "    # separa a tupla em petalas e sépalas\n",
        "    data_batch, targets_batch = data\n",
        "\n",
        "    ax2.scatter(data_batch, targets_batch, c=color[i], marker=mark[i])\n"
      ],
      "execution_count": null,
      "outputs": [
        {
          "output_type": "display_data",
          "data": {
            "text/plain": [
              "<Figure size 1600x500 with 2 Axes>"
            ],
            "image/png": "[encoded data removed]"
          },
          "metadata": {}
        }
      ]
    },
    {
      "metadata": {
        "id": "_VMdMz7cXtJ9"
      },
      "cell_type": "markdown",
      "source": [
        "Com shuffle igual a True, os dados do mini-batch sempre mudam a cada iteração:"
      ]
    },
    {
      "metadata": {
        "id": "dCCSaXaIXtJ9"
      },
      "cell_type": "code",
      "source": [
        "data_loader = DataLoader(dataset,\n",
        "                         batch_size=10, # tamanho do mini-batch de dados\n",
        "                         shuffle=True)  # se for True, embaralha os dados no inicio de cada iteração"
      ],
      "execution_count": null,
      "outputs": []
    },
    {
      "metadata": {
        "id": "YYtZiYCSXtKA",
        "colab": {
          "base_uri": "https://localhost:8080/",
          "height": 348
        },
        "outputId": "06a5cfd0-0569-4e18-dd7e-1c6b30b4c6a3"
      },
      "cell_type": "code",
      "source": [
        "color = [\"b\",\"g\",\"r\",\"c\",\"m\"]\n",
        "mark = ['+', '.', '^', 'o', 'x']\n",
        "fig = plt.figure(figsize=(16,5))\n",
        "ax1 = fig.add_subplot(1,2,1)\n",
        "ax1.set_xlabel('Comprimento sepalas')\n",
        "ax1.set_ylabel('Comprimento petalas')\n",
        "ax1.set_title('Primeira iteração')\n",
        "\n",
        "for i,data in enumerate(data_loader):\n",
        "    # separa a tupla em petalas e sépalas\n",
        "    data_batch, targets_batch = data\n",
        "\n",
        "    ax1.scatter(data_batch, targets_batch, c=color[i], marker=mark[i])\n",
        "\n",
        "ax2 = fig.add_subplot(1,2,2)\n",
        "ax2.set_xlabel('Comprimento normalizado sepalas')\n",
        "ax2.set_ylabel('Comprimento normalizado petalas')\n",
        "ax2.set_title('Segunda iteração')\n",
        "\n",
        "for i,data in enumerate(data_loader):\n",
        "    # separa a tupla em petalas e sépalas\n",
        "    data_batch, targets_batch = data\n",
        "\n",
        "    ax2.scatter(data_batch, targets_batch, c=color[i], marker=mark[i])"
      ],
      "execution_count": null,
      "outputs": [
        {
          "output_type": "display_data",
          "data": {
            "image/png": "[encoded data removed]",
            "text/plain": [
              "<Figure size 1152x360 with 2 Axes>"
            ]
          },
          "metadata": {
            "tags": []
          }
        }
      ]
    },
    {
      "metadata": {
        "id": "sNtgKfbjXtKD"
      },
      "cell_type": "markdown",
      "source": [
        "## Exercício"
      ]
    },
    {
      "metadata": {
        "id": "d6HnqM_CXtKE"
      },
      "cell_type": "markdown",
      "source": [
        "Defina seu próprio DataLoader na segunda célula abaixo. Faça com que cada batch tenha 10 matrizes 3x3. Utilize o dataset já criado anteriormente.\n",
        "\n",
        "Em seguida complete o loop que itera sobre o seu DataLoader para que seja possível plotar as matrizes de cada batch. Utilize a função plot_batch para plotar as matrizes de um batch inteiro."
      ]
    },
    {
      "metadata": {
        "ExecuteTime": {
          "end_time": "2017-10-08T11:34:31.618698Z",
          "start_time": "2017-10-08T11:34:31.174023Z"
        },
        "id": "-sf0B_7dXtKE"
      },
      "cell_type": "code",
      "source": [
        "# Código usado no exercício para plotar as imagens, NÃO É NECESSÁRIO ALTERAR\n",
        "import matplotlib.pyplot as plt\n",
        "import math\n",
        "\n",
        "def plot_batch(batch, batch_n):\n",
        "    fig = plt.figure(figsize=(5,2))\n",
        "    for j, mat in enumerate(batch):\n",
        "        plt.subplot(1, batch.size(0), j+1)\n",
        "        plt.imshow(mat.numpy(), cmap='gray')\n",
        "        plt.axis('off')\n",
        "    plt.suptitle('batch {} - {} elementos'.format(batch_n, batch.size(0)))\n",
        "    plt.show()"
      ],
      "execution_count": null,
      "outputs": []
    },
    {
      "metadata": {
        "ExecuteTime": {
          "end_time": "2017-10-08T11:34:31.627239Z",
          "start_time": "2017-10-08T11:34:31.620886Z"
        },
        "scrolled": false,
        "id": "fhxc-KGmXtKH",
        "colab": {
          "base_uri": "https://localhost:8080/"
        },
        "outputId": "69131cc6-aa87-42d2-b548-c5be7a1302a6"
      },
      "cell_type": "code",
      "source": [
        "# -- Defina aqui seu DataLoader com batches de 10 elementos cada ---\n",
        "data_loader = DataLoader(dataset, batch_size=10, shuffle=True)\n",
        "\n",
        "# Tamanho do Dataloader e do Dataset\n",
        "\n",
        "print('tamanho do DataLoader: ', len(data_loader))\n",
        "print('tamanho do dataset: ', len(dataset))\n",
        "\n",
        "for data in data_loader:\n",
        "    x, y = data\n",
        "    print(x)\n",
        "    print(y)"
      ],
      "execution_count": null,
      "outputs": [
        {
          "output_type": "stream",
          "name": "stdout",
          "text": [
            "tamanho do DataLoader:  5\n",
            "tamanho do dataset:  50\n",
            "tensor([[5.6000],\n",
            "        [5.4000],\n",
            "        [5.0000],\n",
            "        [5.7000],\n",
            "        [6.2000],\n",
            "        [6.0000],\n",
            "        [5.6000],\n",
            "        [4.9000],\n",
            "        [6.7000],\n",
            "        [5.7000]], dtype=torch.float64)\n",
            "tensor([[4.2000],\n",
            "        [4.5000],\n",
            "        [3.3000],\n",
            "        [4.1000],\n",
            "        [4.5000],\n",
            "        [4.5000],\n",
            "        [4.5000],\n",
            "        [3.3000],\n",
            "        [4.7000],\n",
            "        [3.5000]], dtype=torch.float64)\n",
            "tensor([[6.4000],\n",
            "        [6.1000],\n",
            "        [6.0000],\n",
            "        [6.3000],\n",
            "        [6.3000],\n",
            "        [5.5000],\n",
            "        [6.7000],\n",
            "        [5.7000],\n",
            "        [5.8000],\n",
            "        [6.0000]], dtype=torch.float64)\n",
            "tensor([[4.3000],\n",
            "        [4.6000],\n",
            "        [4.5000],\n",
            "        [4.9000],\n",
            "        [4.4000],\n",
            "        [4.0000],\n",
            "        [4.4000],\n",
            "        [4.5000],\n",
            "        [4.1000],\n",
            "        [4.0000]], dtype=torch.float64)\n",
            "tensor([[6.7000],\n",
            "        [5.7000],\n",
            "        [6.1000],\n",
            "        [5.8000],\n",
            "        [5.7000],\n",
            "        [5.6000],\n",
            "        [5.5000],\n",
            "        [5.5000],\n",
            "        [5.2000],\n",
            "        [6.8000]], dtype=torch.float64)\n",
            "tensor([[5.0000],\n",
            "        [4.2000],\n",
            "        [4.7000],\n",
            "        [3.9000],\n",
            "        [4.2000],\n",
            "        [3.6000],\n",
            "        [4.4000],\n",
            "        [3.7000],\n",
            "        [3.9000],\n",
            "        [4.8000]], dtype=torch.float64)\n",
            "tensor([[5.5000],\n",
            "        [5.9000],\n",
            "        [5.1000],\n",
            "        [5.8000],\n",
            "        [6.6000],\n",
            "        [5.0000],\n",
            "        [7.0000],\n",
            "        [6.1000],\n",
            "        [5.6000],\n",
            "        [6.3000]], dtype=torch.float64)\n",
            "tensor([[4.0000],\n",
            "        [4.8000],\n",
            "        [3.0000],\n",
            "        [4.0000],\n",
            "        [4.6000],\n",
            "        [3.5000],\n",
            "        [4.7000],\n",
            "        [4.7000],\n",
            "        [4.1000],\n",
            "        [4.7000]], dtype=torch.float64)\n",
            "tensor([[6.2000],\n",
            "        [5.6000],\n",
            "        [6.4000],\n",
            "        [6.5000],\n",
            "        [5.9000],\n",
            "        [5.5000],\n",
            "        [6.1000],\n",
            "        [6.6000],\n",
            "        [6.0000],\n",
            "        [6.9000]], dtype=torch.float64)\n",
            "tensor([[4.3000],\n",
            "        [3.9000],\n",
            "        [4.5000],\n",
            "        [4.6000],\n",
            "        [4.2000],\n",
            "        [3.8000],\n",
            "        [4.0000],\n",
            "        [4.4000],\n",
            "        [5.1000],\n",
            "        [4.9000]], dtype=torch.float64)\n"
          ]
        }
      ]
    },
    {
      "metadata": {
        "id": "SFljrkFiXtKJ"
      },
      "cell_type": "markdown",
      "source": [
        "- A ordem dos elementos se altera entre execuções da célula acima?\n",
        "\n",
        "Não, pq o shuffle é false\n",
        "\n",
        "- Tente colocar o parametro `shuffle` do DataLoader como `True` e obeseve o resultado do exercício, rodando várias vezes."
      ]
    },
    {
      "metadata": {
        "id": "93tXui2gXtKK"
      },
      "cell_type": "markdown",
      "source": [
        "# Aprendizados"
      ]
    },
    {
      "metadata": {
        "id": "8xeYE8a6XtKL"
      },
      "cell_type": "markdown",
      "source": [
        "1. Dataset é uma abstração para preparar os dados anotados para a rede (entrada,target).\n",
        "2. Dataloader define a forma de construir mini-batches a serem utilizados no laço de treinamento.\n",
        "3. É através do Dataloader que o PyTorch implementa o gradiente descendente estocástico por mini-batches"
      ]
    },
    {
      "metadata": {
        "id": "yBixTzp1XtKL"
      },
      "cell_type": "code",
      "source": [],
      "execution_count": null,
      "outputs": []
    }
  ]
}